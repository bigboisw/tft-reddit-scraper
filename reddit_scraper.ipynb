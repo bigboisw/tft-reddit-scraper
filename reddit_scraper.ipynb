{
 "cells": [
  {
   "cell_type": "code",
   "execution_count": 13,
   "id": "5682eb06-b3db-46a9-8f39-918ca7e75084",
   "metadata": {},
   "outputs": [],
   "source": [
    "# !pip install --upgrade praw\n",
    "# !pip install ipynb\n",
    "# !pip install openai"
   ]
  },
  {
   "cell_type": "code",
   "execution_count": 14,
   "id": "d6aca0bb-d300-455b-ad0d-170bde7070b4",
   "metadata": {},
   "outputs": [],
   "source": [
    "import os\n",
    "import praw\n",
    "import time\n",
    "from openai import OpenAI"
   ]
  },
  {
   "cell_type": "code",
   "execution_count": 17,
   "id": "9e1a3e81",
   "metadata": {},
   "outputs": [],
   "source": [
    "client = OpenAI(\n",
    "    api_key=os.environ.get(\"OPENAI_API_KEY\"),\n",
    ")"
   ]
  },
  {
   "cell_type": "code",
   "execution_count": 18,
   "id": "dd46efab-d4a4-49d7-bdae-96307d244047",
   "metadata": {},
   "outputs": [],
   "source": [
    "reddit = praw.Reddit(\n",
    "    client_id = 'dNYT3dL_YZfQse5vmSUeeg',\n",
    "    client_secret = 'wPerL84fXPgjPmS7H0KI2DXzgrQMqQ',\n",
    "    user_agent = 'tft-scraper'\n",
    ")"
   ]
  },
  {
   "cell_type": "code",
   "execution_count": 19,
   "id": "b4ae0101-dd5e-4da3-b7d4-a6a07643b351",
   "metadata": {},
   "outputs": [],
   "source": [
    "subreddit = reddit.subreddit('CompetitiveTFT')\n",
    "threads = []\n",
    "\n",
    "for submission in subreddit.new(limit = 10):\n",
    "    if 'Daily Discussion Thread' in submission.title:\n",
    "        threads.append(submission)"
   ]
  },
  {
   "cell_type": "code",
   "execution_count": 26,
   "id": "d2768130-e668-471f-827f-9544bfb0424d",
   "metadata": {},
   "outputs": [],
   "source": [
    "comments = []\n",
    "for thread in threads:\n",
    "    thread.comments.replace_more(limit = None)\n",
    "    for comment in thread.comments.list():\n",
    "        auto_mod = \"https://\"\n",
    "        if auto_mod not in comment.body:\n",
    "            comments.append(comment.body)\n",
    "    time.sleep(2)\n",
    "\n",
    "comment_text = ''\n",
    "\n",
    "for comment in comments:\n",
    "    comment_text += comment"
   ]
  },
  {
   "cell_type": "code",
   "execution_count": 29,
   "id": "fdf02069-e33f-4765-8593-1c37de801b8b",
   "metadata": {},
   "outputs": [
    {
     "name": "stdout",
     "output_type": "stream",
     "text": [
      "It would be great for my climbing if I didnt occasionally go \"but what if I took what the forge? Surely it'll be good this time\" and then instantly go 8th on the spot.\n",
      "\n",
      "can we have indicator on pris aug dual purpose please\n",
      "\n",
      "I kept forgeting whether I bought xp for the round and every round..\n",
      "\n",
      "Can you put Yummi on a champion which is benefiting from its Hero Augment? I just had a game where I was unable to put Yummi on my Witchin' Wallop Poppy. I was able to attach them to all other champions.\n",
      "\n",
      "Veigar 2 seems to be annoyingly stable now I feel like we could have gone without that buff\n",
      "\n",
      "Is Ezreal's targeting fucked? Despite \"dashing to the ideal spot\" he keeps missing half of the enemy comp\n",
      "\n"
     ]
    }
   ],
   "source": [
    "for i in range(5):\n",
    "    print(comments[i] + '\\n')"
   ]
  },
  {
   "cell_type": "code",
   "execution_count": 6,
   "id": "8fc13d37-c2ee-4964-83fb-d3fc13a04cb0",
   "metadata": {},
   "outputs": [
    {
     "name": "stdout",
     "output_type": "stream",
     "text": [
      "55475\n"
     ]
    }
   ],
   "source": [
    "print(len(comment_text))"
   ]
  },
  {
   "cell_type": "code",
   "execution_count": null,
   "id": "1ac4bdab-f51e-452c-b7f1-548125891a80",
   "metadata": {},
   "outputs": [],
   "source": [
    "def split_text(text):\n",
    "    max_chunk_size = 2048\n",
    "    chunks = []\n",
    "    current_chunk = \"\"\n",
    "    for sentence in text.split(\".\"):\n",
    "        if len(current_chunk) + len(sentence) < max_chunk_size:\n",
    "            current_chunk += sentence + \".\"\n",
    "        else:\n",
    "            chunks.append(current_chunk.strip())\n",
    "            current_chunk = sentence + \".\"\n",
    "    if current_chunk:\n",
    "        chunks.append(current_chunk.strip())\n",
    "    return chunks"
   ]
  },
  {
   "cell_type": "code",
   "execution_count": null,
   "id": "2984c58d-8c21-4be2-8faf-e9cec0ff8d9e",
   "metadata": {},
   "outputs": [],
   "source": [
    "def generate_summary(text):\n",
    "    input_chunks = split_text(text)\n",
    "    output_chunks = []\n",
    "    for chunk in input_chunks:\n",
    "        response = openai.Completion.create(\n",
    "            engine=\"davinci\",\n",
    "            prompt=(f\"Summarize the following text based on knowledge of the Riot Games game Teamfight Tactics:\\n{chunk}\\n\\nSummary:\"),\n",
    "            temperature=0.5,\n",
    "            max_tokens=1024,\n",
    "            n = 1,\n",
    "            stop=None\n",
    "        )\n",
    "        summary = response.choices[0].text.strip()\n",
    "        output_chunks.append(summary)\n",
    "    return \" \".join(output_chunks)"
   ]
  }
 ],
 "metadata": {
  "kernelspec": {
   "display_name": "Python 3 (ipykernel)",
   "language": "python",
   "name": "python3"
  },
  "language_info": {
   "codemirror_mode": {
    "name": "ipython",
    "version": 3
   },
   "file_extension": ".py",
   "mimetype": "text/x-python",
   "name": "python",
   "nbconvert_exporter": "python",
   "pygments_lexer": "ipython3",
   "version": "3.11.7"
  }
 },
 "nbformat": 4,
 "nbformat_minor": 5
}
